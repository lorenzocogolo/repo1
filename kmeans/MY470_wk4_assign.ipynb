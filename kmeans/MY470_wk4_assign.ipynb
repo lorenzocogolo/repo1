{
 "cells": [
  {
   "cell_type": "markdown",
   "metadata": {
    "slideshow": {
     "slide_type": "slide"
    }
   },
   "source": [
    "### MY470 Computer Programming\n",
    "\n",
    "### Week 4 Assignment, MT 2020\n",
    "\n",
    "#### \\*\\*\\* Due 12:00 noon on Monday, October 26 \\*\\*\\*"
   ]
  },
  {
   "cell_type": "markdown",
   "metadata": {
    "slideshow": {
     "slide_type": "slide"
    }
   },
   "source": [
    "---\n",
    "### Writing your own k-means clustering algorithm\n",
    "\n",
    "K-means clustering is a simple unsupervised machine-learning method for cluster analysis. The aim of the method is to partition a set of points into k clusters, such that each point is assigned to the nearest cluster. The algorithm iterates through two steps:\n",
    "\n",
    "1. Assign each data point to the cluster with the nearest centroid\n",
    "2. Update the centroids of the clusters given the new assignment\n",
    "\n",
    "The algorithm converges when the assignments no longer change. Since the intial assignment to clusters is largely random, there is no guarantee that the optimum assignment is found. So it is common to run the algorithm multiple times and use different starting conditions.\n",
    "\n",
    "In this assignment, we will implement a much simplified version of the k-means clustering algorithm. Rather than running the algorithm until convergence, we will repeat the above two steps a large but fixed number of times. In addition, we will initialize only once, using a naive method according to which we randomly choose k points from the data to use as initial cluster centroids. \n",
    "\n",
    "(In real life, you will of course use a library to implement such an algorithm. In Python, you can do this using [scikit-learn](http://scikit-learn.org/stable/modules/generated/sklearn.cluster.KMeans.html).)\n",
    "\n",
    "For the assignment, we will additionally use data from the file \"Wholesale customers data.csv\". The file contains information on the annual spending on diverse product categories for the clients of a wholesale distributor. The data are obtained from the [UCI Machine Learning Repository](http://archive.ics.uci.edu/ml/index.php) and you can find more information about them [here](http://archive.ics.uci.edu/ml/datasets/Wholesale+customers#).\n",
    "\n",
    "#### Hints\n",
    "\n",
    "Use docstrings to describe your functions. We will subtract points from your mark if you do not use appropriate description of your code."
   ]
  },
  {
   "cell_type": "code",
   "execution_count": 6,
   "metadata": {},
   "outputs": [],
   "source": [
    "# We will first import the modules we need\n",
    "# Edit this cell if you prefer to use alternative modules or libraries\n",
    "\n",
    "# You will need the math module to estimate the square root.\n",
    "# To get the square root of num, use math.sqrt(num)\n",
    "import math as m\n",
    "import csv\n",
    "import random"
   ]
  },
  {
   "cell_type": "markdown",
   "metadata": {},
   "source": [
    "### Problem 1: Function to estimate Euclidean distance between two points\n",
    "\n",
    "Write a function called `get_distance` that calculates the Euclidean distance between two n-dimensional points. The function should take two lists as arguments, where each list contains the n coordinates of each of the two points. \n",
    "\n",
    "Test your function for the points [0, 3, 0] and [4, 0, 0].\n",
    "\n",
    "#### Hints\n",
    "\n",
    "You can read about the definition of Euclidean distance on [Wikipedia](https://en.wikipedia.org/wiki/Euclidean_distance).\n"
   ]
  },
  {
   "cell_type": "code",
   "execution_count": 9,
   "metadata": {},
   "outputs": [
    {
     "name": "stdout",
     "output_type": "stream",
     "text": [
      "5.0\n"
     ]
    }
   ],
   "source": [
    "# Enter your answer to Problem 1 below. \n",
    "# radq((0-4)**2 + (3-0)**2 + (0-0)**2)\n",
    "list1 = [0, 3, 0] \n",
    "list2 = [4, 0, 0]\n",
    "\n",
    "def get_distance(lst1, lst2):\n",
    "    '''The function takes two lists as arguments. At each cycle of the loop it computes the squared \n",
    "    difference between each couple of elements in the two lists, sums the values of each iteration \n",
    "    and then computes the squared root of the final figure to calculate the Euclidean distance between\n",
    "    the two n-dimensional points'''\n",
    "    x = 0\n",
    "    for i in range(len(lst1)):\n",
    "        x = x + (lst1[i]-lst2[i])**2\n",
    "    dist = m.sqrt(x)    \n",
    "    return dist\n",
    "\n",
    "print(get_distance(list1,list2))\n",
    "    "
   ]
  },
  {
   "cell_type": "markdown",
   "metadata": {},
   "source": [
    "### Problem 2: Function to estimate the centroid of a collection of points\n",
    "\n",
    "Write a function called `get_centroid` that estimates the centroid of a collection of n-dimensional points. The function should take one list as an argument, which contains each of the points entered as a list of n coordinates. The function should return a list with the coordinates of the virtual center point.\n",
    "\n",
    "Test your function for the points in `test_lst` entered below.\n",
    "\n",
    "#### Hints\n",
    "\n",
    "The coordinate of the centroid in each dimension is the mean of the coordinates of all the points in that dimension.\n"
   ]
  },
  {
   "cell_type": "code",
   "execution_count": 1,
   "metadata": {
    "scrolled": false
   },
   "outputs": [
    {
     "data": {
      "text/plain": [
       "[0.5, 0.5, 0.5]"
      ]
     },
     "execution_count": 1,
     "metadata": {},
     "output_type": "execute_result"
    }
   ],
   "source": [
    "test_lst = [[0,0,0], [0,0,1], [0,1,0], [1,0,0], \n",
    "            [0,1,1], [1,0,1], [1,1,0], [1,1,1]]\n",
    "\n",
    "# Enter your answer to Problem 2 below. \n",
    "def get_centroids(lst):\n",
    "    '''The function takes a list with variable number of elements as input. It sums all of the elements \n",
    "    belonging to a specific position within the respective lists and divides the result by the number of\n",
    "    elements that have been added up. The function appends the results to a new list 'a' where every \n",
    "    element is the mean difference between the corresponding elements in the input lists. '''\n",
    "    a = []\n",
    "    for m in zip(*lst):\n",
    "        x = sum(m)/float(len(m))\n",
    "        a.append(x)\n",
    "    return a\n",
    "\n",
    "get_centroids(test_lst)"
   ]
  },
  {
   "cell_type": "markdown",
   "metadata": {},
   "source": [
    "---\n",
    "### Problem 3: Function to read data\n",
    "\n",
    "Write a function called `get_data` that opens the file \"Wholesale customers data.csv\" and returns all the data in a list. Each element in the list should be a list of each customer's annual spending on fresh products, milk products, grocery products, frozen products, detergents and paper products, and delicatessen products. In other words, your list should contain 440 elements (customers), each of which contains six numeric elements (amounts spent on products). The function does not need to take any arguments.\n",
    "\n",
    "Test your function by saving the data it returns in a variable called `data`. Then print the first two elements of `data`.\n",
    "\n",
    "\n",
    "#### Hints\n",
    "\n",
    "Use the csv module to read the file. You can read how to do this [here](https://docs.python.org/3/library/csv.html). Make sure you do not include the column names in the data. "
   ]
  },
  {
   "cell_type": "code",
   "execution_count": 4,
   "metadata": {},
   "outputs": [
    {
     "name": "stdout",
     "output_type": "stream",
     "text": [
      "[[12669, 9656, 7561, 214, 2674, 1338], [7057, 9810, 9568, 1762, 3293, 1776]]\n"
     ]
    }
   ],
   "source": [
    "# Enter your answer to Problem 3 here. \n",
    "def get_data():\n",
    "    '''Skipping the first line, for every line in the file, the function splits the elements within, converts \n",
    "    them into integers and assigns the 6 last elements to a new list that will be appended to the 'data' list. \n",
    "    It returns the list 'data' as output'''\n",
    "    data = []\n",
    "    for line in open('Wholesale customers data.csv', 'r').readlines()[1:]:\n",
    "        int_list = [int(k) for k in line.split(',')]\n",
    "        data.append(int_list[2:])\n",
    "    return data\n",
    "\n",
    "pnt = get_data()\n",
    "print(pnt[:2])"
   ]
  },
  {
   "cell_type": "markdown",
   "metadata": {},
   "source": [
    "---\n",
    "### Problem 4: Function to implement k-means algorithm\n",
    "\n",
    "Write a function called `kmeans` that clusters a collection of points into k clusters using a simplified version of the k-means algorithm. The function should take two arguments: \n",
    "\n",
    "1. `points` – a list of n-dimensional points, and\n",
    "2. `k` – an integer that defines the number of desired clusters. \n",
    "\n",
    "The function should return two things: \n",
    "\n",
    "1. A clustering – a list of `k` clusters, each of which is a list of points (each of which is a list of coordinates)\n",
    "2. A list of the centroids for each of the `k` clusters. Each centroid is essentially a point, so it should be presented as a list of coordinates.\n",
    "\n",
    "Write your code around the detailed comments and the helping code below.\n",
    "\n",
    "Test your function on the data from Problem 3 for k = 3. For each of the three clusters, print the number of customers assigned to it and the cordinates of its centroid.\n"
   ]
  },
  {
   "cell_type": "code",
   "execution_count": 14,
   "metadata": {},
   "outputs": [
    {
     "name": "stdout",
     "output_type": "stream",
     "text": [
      "[[5531, 15726, 26870, 2367, 13726, 446], [13134, 9347, 14316, 3141, 5079, 1894], [5963, 3648, 6192, 425, 1716, 750], [27380, 7184, 12311, 2809, 4621, 1022]]\n",
      "Number of customers: [11, 94, 276, 59]\n",
      "Centroids: [[16911.090909090908, 34864.36363636364, 46126.181818181816, 3245.4545454545455, 23008.090909090908, 4177.363636363636], [4816.404255319149, 10318.978723404256, 16803.872340425532, 1450.3191489361702, 7191.36170212766, 1654.1914893617022], [9087.463768115942, 3027.427536231884, 3753.514492753623, 2817.985507246377, 1003.0036231884058, 1040.5253623188405], [36156.38983050847, 6123.64406779661, 6366.779661016949, 6811.118644067797, 1050.0169491525423, 3090.0508474576272]]\n"
     ]
    }
   ],
   "source": [
    "# Enter your answer to Problem 4 in-between the code and comments below. \n",
    "\n",
    "def kmeans(points, k):\n",
    "    \n",
    "    # Select k random points to use as initial centroids\n",
    "    init = random.sample(points, k)\n",
    "    print(init)\n",
    "    # Create a list of k lists to contain the points assigned to each cluster.  \n",
    "    clusters = [[] for i in init]\n",
    "        \n",
    "    # Create a list to keep the centroids of the k clusters. \n",
    "    # For now, this list will contain the points from init.         \n",
    "    centroids = [i for i in init]\n",
    "    \n",
    "    # You now need to assign each point to the cluster \n",
    "    # with the closest centroid. Use the get_distance function \n",
    "    # you wrote in Problem 1 for this.\n",
    "    for i in points:\n",
    "        min_ = 1e18 # use 1^18 as an initial very high value for the minimum distance\n",
    "        location = 0\n",
    "        for x in range(len(centroids)):\n",
    "            \n",
    "            # for every element in points, the function get_distance is used to compute the distance between\n",
    "            # the point and each of the k centroids\n",
    "            min_dist = get_distance(i, centroids[x])\n",
    "            \n",
    "            # if the distance beween the point and the current centroid is less than the one with the previous\n",
    "            # centroid, the value of min_ is reassigned using the newly computed, shorter distance\n",
    "            if min_dist < min_:\n",
    "                min_ = min_dist\n",
    "                location = x\n",
    "                \n",
    "        # once the centroid with the shorter distance is identified the point analysed is assigned to the \n",
    "        # respective cluster\n",
    "        clusters[location].append(i)\n",
    "\n",
    "    # You should then update the variable \"clusters\" to be \n",
    "    # the new clustering and update the variable \"centroids\" \n",
    "    # to contain the centroids of the clusters in this new clustering.\n",
    "    # Use the function you wrote in Problem 2 to estimate the centroids.\n",
    "    for i in range(k):\n",
    "        centroids[i] = get_centroids(clusters[i])\n",
    "\n",
    "    # Repeat the process described above for 100 iterations. \n",
    "    # The idea is that each new repetition refines the clustering \n",
    "    # because it starts from the centroids of the previous clustering. \n",
    "    # If we repeat the process long enough, the assignment to \n",
    "    # clusters and the centroids will become stable.\n",
    "    \n",
    "    # A while loop repeats until h == 100 and the function is asked to return the results thereby ending the loop \n",
    "    h = 0\n",
    "    while (True):\n",
    "        \n",
    "        # clusters is initialised at the begining of each of the 100 repetitions\n",
    "        clusters = [[] for i in init]\n",
    "        \n",
    "        # The process described above is utilised to assign each point to the respective cluster\n",
    "        for i in points:\n",
    "            min_ = 1e18\n",
    "            location = 0\n",
    "            for x in range(len(centroids)):\n",
    "                min_dist = get_distance(i, centroids[x])\n",
    "                if min_dist < min_:\n",
    "                    min_ = min_dist\n",
    "                    location = x\n",
    "            clusters[location].append(i)\n",
    "\n",
    "        for i in range(k):\n",
    "            centroids[i] = get_centroids(clusters[i])\n",
    "            \n",
    "        # For each repetition of the while loop h is increased by 1 until it reaches the 100th repetion and the \n",
    "        # function is asked to output the results\n",
    "        h += 1\n",
    "        if h == 100:\n",
    "            return clusters, centroids        \n",
    "    \n",
    "cl, ce = kmeans(pnt,4)\n",
    "# Use a list comprehension to calculate how many elements are in each cluster\n",
    "print('Number of customers:', [len(c) for c in cl])\n",
    "print('Centroids:', ce)"
   ]
  },
  {
   "cell_type": "markdown",
   "metadata": {},
   "source": [
    "---\n",
    "\n",
    "### Evaluation\n",
    "\n",
    "| Problem | Mark     | Comment   \n",
    "|:-------:|:--------:|:----------------------\n",
    "| 1       |   /2    |              \n",
    "| 2       |   /2    | \n",
    "| 3       |   /2    | \n",
    "| 4       |   /6    | \n",
    "| Legibility      |   /2    | \n",
    "| Modularity      |   /2    | \n",
    "| Efficiency      |   /4    | \n",
    "|**Total**|**/20**  | "
   ]
  }
 ],
 "metadata": {
  "kernelspec": {
   "display_name": "Python 3",
   "language": "python",
   "name": "python3"
  },
  "language_info": {
   "codemirror_mode": {
    "name": "ipython",
    "version": 3
   },
   "file_extension": ".py",
   "mimetype": "text/x-python",
   "name": "python",
   "nbconvert_exporter": "python",
   "pygments_lexer": "ipython3",
   "version": "3.8.3"
  }
 },
 "nbformat": 4,
 "nbformat_minor": 2
}
